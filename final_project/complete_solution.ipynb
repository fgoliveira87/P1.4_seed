{
 "cells": [
  {
   "cell_type": "markdown",
   "metadata": {},
   "source": [
    "### Loading MNIST database with Keras using Tensorflow:"
   ]
  },
  {
   "cell_type": "code",
   "execution_count": 1,
   "metadata": {},
   "outputs": [
    {
     "name": "stdout",
     "output_type": "stream",
     "text": [
      "Populating the interactive namespace from numpy and matplotlib\n"
     ]
    },
    {
     "name": "stderr",
     "output_type": "stream",
     "text": [
      "Using TensorFlow backend.\n"
     ]
    },
    {
     "name": "stdout",
     "output_type": "stream",
     "text": [
      "(60000, 28, 28) (60000,)\n",
      "(10000, 28, 28) (10000,)\n"
     ]
    }
   ],
   "source": [
    "%pylab inline\n",
    "\n",
    "# input image dimensions\n",
    "img_rows, img_cols = 28, 28\n",
    "#\n",
    "# # Uncomment the following lines if you have keras installed. Otherwise you can \n",
    "# # use the file I uploaded: mnist.npz\n",
    "import keras\n",
    "from keras.datasets import mnist\n",
    "from keras import backend as K\n",
    "#\n",
    "#\n",
    "# the data, split between train and test sets\n",
    "(x_train, y_train), (x_test, y_test) = mnist.load_data()\n",
    "#\n",
    "if K.image_data_format() == 'channels_first':\n",
    "    x_train = x_train.reshape(x_train.shape[0], 1, img_rows, img_cols)\n",
    "    x_test = x_test.reshape(x_test.shape[0], 1, img_rows, img_cols)\n",
    "    input_shape = (img_rows, img_cols)\n",
    "else:\n",
    "    x_train = x_train.reshape(x_train.shape[0], img_rows, img_cols)\n",
    "    x_test = x_test.reshape(x_test.shape[0], img_rows, img_cols)\n",
    "    input_shape = (img_rows, img_cols)\n",
    "#\n",
    "x_train = x_train.astype('float32')\n",
    "x_test = x_test.astype('float32')\n",
    "x_train /= 255\n",
    "x_test /= 255\n",
    "\n",
    "np.savez_compressed('mnist.npz', x_train, y_train, x_test, y_test)\n",
    "\n",
    "#arc = load('mnist.npz')\n",
    "\n",
    "#x_train = arc['arr_0']\n",
    "#y_train = arc['arr_1']\n",
    "#x_test  = arc['arr_2']\n",
    "#y_test  = arc['arr_3']\n",
    "\n",
    "print(x_train.shape, y_train.shape)\n",
    "print(x_test.shape, y_test.shape)"
   ]
  },
  {
   "cell_type": "markdown",
   "metadata": {},
   "source": [
    "### Plotting image from x_train:"
   ]
  },
  {
   "cell_type": "code",
   "execution_count": 2,
   "metadata": {},
   "outputs": [
    {
     "data": {
      "image/png": "[encoded data removed]",
      "text/plain": [
       "<Figure size 432x288 with 1 Axes>"
      ]
     },
     "metadata": {
      "needs_background": "light"
     },
     "output_type": "display_data"
    }
   ],
   "source": [
    "#import matplotlib.pyplot as plot\n",
    "#import math\n",
    "\n",
    "# Show image number 3, and write in the title what digit it should correspond to\n",
    "N=3\n",
    "imshow(x_train[N], cmap='gray_r')\n",
    "_ = title('Hand written digit '+str(y_train[N]))"
   ]
  },
  {
   "cell_type": "markdown",
   "metadata": {},
   "source": [
    "### Plotting image from x_test:"
   ]
  },
  {
   "cell_type": "code",
   "execution_count": 3,
   "metadata": {},
   "outputs": [
    {
     "data": {
      "image/png": "[encoded data removed]",
      "text/plain": [
       "<Figure size 432x288 with 1 Axes>"
      ]
     },
     "metadata": {
      "needs_background": "light"
     },
     "output_type": "display_data"
    }
   ],
   "source": [
    "N=2\n",
    "imshow(x_test[N], cmap='gray_r')\n",
    "#colorbar()\n",
    "_ = title('Hand written digit '+str(y_test[N]))"
   ]
  },
  {
   "cell_type": "markdown",
   "metadata": {},
   "source": [
    "### My laptop configuration:"
   ]
  },
  {
   "cell_type": "code",
   "execution_count": 4,
   "metadata": {},
   "outputs": [
    {
     "name": "stdout",
     "output_type": "stream",
     "text": [
      "Architecture:          x86_64\r\n",
      "CPU op-mode(s):        32-bit, 64-bit\r\n",
      "Byte Order:            Little Endian\r\n",
      "CPU(s):                4\r\n",
      "On-line CPU(s) list:   0-3\r\n",
      "Thread(s) per core:    2\r\n",
      "Core(s) per socket:    2\r\n",
      "Socket(s):             1\r\n",
      "NUMA node(s):          1\r\n",
      "Vendor ID:             GenuineIntel\r\n",
      "CPU family:            6\r\n",
      "Model:                 42\r\n",
      "Model name:            Intel(R) Core(TM) i5-2450M CPU @ 2.50GHz\r\n",
      "Stepping:              7\r\n",
      "CPU MHz:               1087.593\r\n",
      "CPU max MHz:           3100.0000\r\n",
      "CPU min MHz:           800.0000\r\n",
      "BogoMIPS:              4989.12\r\n",
      "Virtualization:        VT-x\r\n",
      "L1d cache:             32K\r\n",
      "L1i cache:             32K\r\n",
      "L2 cache:              256K\r\n",
      "L3 cache:              3072K\r\n",
      "NUMA node0 CPU(s):     0-3\r\n",
      "Flags:                 fpu vme de pse tsc msr pae mce cx8 apic sep mtrr pge mca cmov pat pse36 clflush dts acpi mmx fxsr sse sse2 ss ht tm pbe syscall nx rdtscp lm constant_tsc arch_perfmon pebs bts nopl xtopology nonstop_tsc cpuid aperfmperf pni pclmulqdq dtes64 monitor ds_cpl vmx est tm2 ssse3 cx16 xtpr pdcm pcid sse4_1 sse4_2 x2apic popcnt tsc_deadline_timer aes xsave avx lahf_lm epb pti ssbd ibrs ibpb stibp tpr_shadow vnmi flexpriority ept vpid xsaveopt dtherm ida arat pln pts flush_l1d\r\n"
     ]
    }
   ],
   "source": [
    "#import os\n",
    "#os.system(\"lspcu\")\n",
    "!lscpu\n",
    "##!lshw -class cpu"
   ]
  },
  {
   "cell_type": "code",
   "execution_count": 5,
   "metadata": {},
   "outputs": [
    {
     "name": "stdout",
     "output_type": "stream",
     "text": [
      "WARNING: you should run this program as super-user.\n",
      "  *-memory                \n",
      "       description: System memory\n",
      "       physical id: 0\n",
      "       size: 15GiB\n",
      "WARNING: output may be incomplete or inaccurate, you should run this program as super-user.\n"
     ]
    }
   ],
   "source": [
    "!lshw -class memory"
   ]
  },
  {
   "cell_type": "markdown",
   "metadata": {},
   "source": [
    "## Assignment 1"
   ]
  },
  {
   "cell_type": "markdown",
   "metadata": {},
   "source": [
    "### Defining distance functions:"
   ]
  },
  {
   "cell_type": "code",
   "execution_count": 6,
   "metadata": {},
   "outputs": [],
   "source": [
    "##Assignment 1\n",
    "#Functions:\n",
    "\n",
    "#Naive\n",
    "def d_infty(x,z):\n",
    "    dist0 = 0\n",
    "    for i in range(28):\n",
    "        for j in range(28):\n",
    "            temp = abs(z[i,j]-x[i,j])\n",
    "            if temp > dist0:\n",
    "                dist0 = temp\n",
    "    return dist0\n",
    "def d_one(x,z):\n",
    "    dist1 = 0\n",
    "    for i in range(28):\n",
    "        for j in range(28):\n",
    "            temp = z[i,j]-x[i,j]\n",
    "            dist1 += abs(temp)\n",
    "    return dist1\n",
    "def d_two(x,z):\n",
    "    dist2 = 0\n",
    "    for i in range(28):\n",
    "        for j in range(28):\n",
    "            temp = z[i,j]-x[i,j]\n",
    "            dist2 += temp*temp\n",
    "    return math.sqrt(dist2)\n",
    "\n",
    "#Optimized\n",
    "def opt_d_infty(x,z):\n",
    "    xx = np.array(x)\n",
    "    zz = np.array(z)\n",
    "    dd = abs(np.subtract(xx,zz))\n",
    "    return dd.max()\n",
    "def opt_d_one(x,z):\n",
    "    xx = np.array(x)\n",
    "    zz = np.array(z)\n",
    "    dd = abs(np.subtract(xx,zz))\n",
    "    return np.sum(dd)\n",
    "def opt_d_two(x,z):\n",
    "    xx = np.array(x)\n",
    "    zz = np.array(z)\n",
    "    dd = abs(np.subtract(xx,zz))\n",
    "    dd2 = dd*dd\n",
    "    return np.sqrt(np.sum(dd2))"
   ]
  },
  {
   "cell_type": "markdown",
   "metadata": {},
   "source": [
    "### Testing and timing functions:"
   ]
  },
  {
   "cell_type": "code",
   "execution_count": 7,
   "metadata": {},
   "outputs": [
    {
     "data": {
      "image/png": "[encoded data removed]",
      "text/plain": [
       "<Figure size 432x288 with 2 Axes>"
      ]
     },
     "metadata": {
      "needs_background": "light"
     },
     "output_type": "display_data"
    }
   ],
   "source": [
    "#### Using x_train[N=2] AND x_test[N=2] for testing and timing\n",
    "\n",
    "N=2\n",
    "imshow(x_train[N], cmap='gray_r')\n",
    "colorbar()\n",
    "_ = title('Hand written digit '+str(y_train[N]))"
   ]
  },
  {
   "cell_type": "code",
   "execution_count": 8,
   "metadata": {},
   "outputs": [
    {
     "data": {
      "image/png": "[encoded data removed]",
      "text/plain": [
       "<Figure size 432x288 with 2 Axes>"
      ]
     },
     "metadata": {
      "needs_background": "light"
     },
     "output_type": "display_data"
    }
   ],
   "source": [
    "imshow(x_test[N], cmap='gray_r')\n",
    "colorbar()\n",
    "_ = title('Hand written digit '+str(y_test[N]))"
   ]
  },
  {
   "cell_type": "code",
   "execution_count": 9,
   "metadata": {},
   "outputs": [
    {
     "name": "stdout",
     "output_type": "stream",
     "text": [
      "Checking and Timing d_infty():\n",
      "\n",
      "Naïve distance x_train[2] to itself: 0\n",
      "3.09 ms ± 17.1 µs per loop (mean ± std. dev. of 7 runs, 100 loops each)\n",
      "\n",
      "\n",
      "Naïve distance x_train[2] to x_test[2]: 1.0\n",
      "923 µs ± 36.9 µs per loop (mean ± std. dev. of 7 runs, 1000 loops each)\n",
      "\n",
      "\n",
      "Opt. distance x_train[2] to itself: 0.0\n",
      "15.8 µs ± 1.84 µs per loop (mean ± std. dev. of 7 runs, 100000 loops each)\n",
      "\n",
      "\n",
      "Opt. distance x_train[2] to x_test[2]: 1.0\n",
      "15.2 µs ± 313 ns per loop (mean ± std. dev. of 7 runs, 100000 loops each)\n"
     ]
    }
   ],
   "source": [
    "print(\"Checking and Timing d_infty():\\n\")\n",
    "print (\"Naïve distance x_train[2] to itself:\", d_infty(x_train[2],x_train[2]))\n",
    "%timeit d_infty(x_train[2],x_train[2])\n",
    "print (\"\\n\")\n",
    "print (\"Naïve distance x_train[2] to x_test[2]:\",d_infty(x_train[2],x_test[2]))\n",
    "%timeit d_infty(x_train[2],x_test[2])\n",
    "print (\"\\n\")\n",
    "print (\"Opt. distance x_train[2] to itself:\",opt_d_infty(x_train[2],x_train[2]))\n",
    "%timeit opt_d_infty(x_train[2],x_train[2])\n",
    "print (\"\\n\")\n",
    "print (\"Opt. distance x_train[2] to x_test[2]:\", opt_d_infty(x_train[2],x_test[2]))\n",
    "%timeit opt_d_infty(x_train[2],x_test[2])"
   ]
  },
  {
   "cell_type": "code",
   "execution_count": 56,
   "metadata": {},
   "outputs": [
    {
     "name": "stdout",
     "output_type": "stream",
     "text": [
      "Checking and Timing d_one():\n",
      "\n",
      "Naïve distance x_train[2] to itself: 0.0\n",
      "548 µs ± 26.1 µs per loop (mean ± std. dev. of 7 runs, 1000 loops each)\n",
      "\n",
      "\n",
      "Naïve distance x_train[2] to x_test[2]: 107.5294131655246\n",
      "553 µs ± 55.1 µs per loop (mean ± std. dev. of 7 runs, 1000 loops each)\n",
      "\n",
      "\n",
      "Opt. distance x_train[2] to itself: 0.0\n",
      "16.8 µs ± 65 ns per loop (mean ± std. dev. of 7 runs, 100000 loops each)\n",
      "\n",
      "\n",
      "Opt. distance x_train[2] to x_test[2]: 107.52942\n",
      "17.1 µs ± 358 ns per loop (mean ± std. dev. of 7 runs, 100000 loops each)\n",
      "\n",
      "Error (due to numpy float32 standart):  5.375e-06 %\n"
     ]
    }
   ],
   "source": [
    "print(\"Checking and Timing d_one():\\n\")\n",
    "print (\"Naïve distance x_train[2] to itself:\", d_one(x_train[2],x_train[2]))\n",
    "%timeit d_one(x_train[2],x_train[2])\n",
    "print (\"\\n\")\n",
    "naive = d_one(x_train[2],x_test[2])\n",
    "print (\"Naïve distance x_train[2] to x_test[2]:\",naive)\n",
    "%timeit d_one(x_train[2],x_test[2])\n",
    "print (\"\\n\")\n",
    "print (\"Opt. distance x_train[2] to itself:\",opt_d_one(x_train[2],x_train[2]))\n",
    "%timeit opt_d_one(x_train[2],x_train[2])\n",
    "print (\"\\n\")\n",
    "opt = opt_d_one(x_train[2],x_test[2])\n",
    "print (\"Opt. distance x_train[2] to x_test[2]:\", opt)\n",
    "%timeit opt_d_one(x_train[2],x_test[2])\n",
    "error_one = (abs(naive-opt)/naive)*100\n",
    "trunc_error_one = '%.3e'%(error_one)\n",
    "print (\"\\nError (due to numpy float32 standart): \",trunc_error_one, \"%\")"
   ]
  },
  {
   "cell_type": "code",
   "execution_count": null,
   "metadata": {},
   "outputs": [],
   "source": [
    "#Checking and Timing d_two()\n",
    "\n",
    "naive = d_two(x_train[2],x_test[2])\n",
    "print (naive)\n",
    "opt = opt_d_two(x_train[2],x_test[2])\n",
    "print (opt)\n",
    "print (\"relative error: \",(abs(naive-opt)/naive)*100,\"%\")\n",
    "\n",
    "%timeit opt_d_two(x_train[2],x_test[2])\n",
    "%timeit opt_d_two(x_train[2],x_train[2])\n",
    "%timeit d_two(x_train[2],x_test[2])\n",
    "%timeit d_two(x_train[2],x_train[2])"
   ]
  },
  {
   "cell_type": "code",
   "execution_count": null,
   "metadata": {},
   "outputs": [],
   "source": [
    "def func_dist(d,x,z):\n",
    "    result = d(x,z)\n",
    "    return result"
   ]
  },
  {
   "cell_type": "code",
   "execution_count": null,
   "metadata": {},
   "outputs": [],
   "source": [
    "#%timeit func_dist(d_one,x_train[2],x_test[2])"
   ]
  },
  {
   "cell_type": "code",
   "execution_count": null,
   "metadata": {},
   "outputs": [],
   "source": [
    "#$Assignment 2\n",
    "\n",
    "#import numpy as np\n",
    "def func_dist(N,d,x,z):\n",
    "    D = np.zeros((N,N)) \n",
    "    for i in range(N):\n",
    "        for j in range(i+1):\n",
    "            #print(j,i)\n",
    "            D[i,j] = d(x[i],z[j])\n",
    "            if i!=j: D[j,i]=D[i,j]\n",
    "    return D"
   ]
  },
  {
   "cell_type": "code",
   "execution_count": null,
   "metadata": {},
   "outputs": [],
   "source": [
    "func_dist(4, opt_d_one, x_train, x_test)"
   ]
  },
  {
   "cell_type": "code",
   "execution_count": null,
   "metadata": {},
   "outputs": [],
   "source": [
    "D4 = func_dist(4, d_infty, x_train, x_train)\n",
    "D4opt = func_dist(4, opt_d_infty, x_train, x_train)\n",
    "print(D4)\n",
    "print(D4opt)"
   ]
  },
  {
   "cell_type": "code",
   "execution_count": null,
   "metadata": {},
   "outputs": [],
   "source": [
    "D4one = func_dist(4, d_one, x_train, x_train)\n",
    "D4optone = func_dist(4, opt_d_one, x_train, x_train)\n",
    "print(D4one)\n",
    "print(D4optone)"
   ]
  },
  {
   "cell_type": "code",
   "execution_count": null,
   "metadata": {},
   "outputs": [],
   "source": [
    "#%timeit func_dist(1000,opt_d_infty,x_train,x_train)\n",
    "#%timeit func_dist(1000,opt_d_one,x_train,x_train)\n",
    "#%timeit func_dist(1000,opt_d_two,x_train,x_train)"
   ]
  },
  {
   "cell_type": "code",
   "execution_count": null,
   "metadata": {},
   "outputs": [],
   "source": [
    "#Assingment 3\n",
    "N = 100\n",
    "Dinfty = func_dist(N,opt_d_infty,x_train,x_train)\n",
    "imshow(Dinfty, cmap='jet')\n",
    "colorbar()\n",
    "_ = title('Distance Matrix Dinfty')"
   ]
  },
  {
   "cell_type": "code",
   "execution_count": null,
   "metadata": {},
   "outputs": [],
   "source": [
    "N = 100 \n",
    "D1one = func_dist(N,opt_d_one,x_train,x_train)\n",
    "imshow(D1one, cmap='jet')\n",
    "colorbar()\n",
    "_ = title('Distance Matrix D1one')"
   ]
  },
  {
   "cell_type": "code",
   "execution_count": null,
   "metadata": {
    "scrolled": true
   },
   "outputs": [],
   "source": [
    "N = 100 \n",
    "D2two = func_dist(N,opt_d_two,x_train,x_train)\n",
    "imshow(D2two, cmap='jet')\n",
    "colorbar()\n",
    "_ = title('Distance Matrix D2two')"
   ]
  },
  {
   "cell_type": "code",
   "execution_count": null,
   "metadata": {},
   "outputs": [],
   "source": [
    "##Assignment 4\n",
    "\n",
    "def efficency(D,N,Y):\n",
    "\n",
    "    error_counter = 0\n",
    "    for i in range(N):\n",
    "        D[i,i]=D[i,N-1]\n",
    "    for i in range(N-1):\n",
    "        A = np.array(D[i])\n",
    "        a_val = A.min()\n",
    "        a = A.argmin()\n",
    "        if Y[a]!=Y[i]:\n",
    "            error_counter += 1\n",
    "  \n",
    "    return error_counter/N\n",
    "            "
   ]
  },
  {
   "cell_type": "code",
   "execution_count": null,
   "metadata": {},
   "outputs": [],
   "source": [
    "#Assignment 5\n",
    "\n",
    "E = np.zeros((3))\n",
    "i=0\n",
    "for k in 100, 200:#, 400, 800, 1600:\n",
    "    D0 = func_dist(k,opt_d_infty,x_train,x_train)\n",
    "    E[0] = efficency(D0, k, y_train)\n",
    "    D1 = func_dist(k,opt_d_one,x_train,x_train)\n",
    "    E[1] = efficency(D1, k, y_train)\n",
    "    D2 = func_dist(k,opt_d_two,x_train,x_train)\n",
    "    E[2] = efficency(D2, k, y_train)\n",
    "    print (E)"
   ]
  },
  {
   "cell_type": "code",
   "execution_count": null,
   "metadata": {},
   "outputs": [],
   "source": [
    "#Assignment 6"
   ]
  },
  {
   "cell_type": "code",
   "execution_count": null,
   "metadata": {},
   "outputs": [],
   "source": []
  },
  {
   "cell_type": "code",
   "execution_count": null,
   "metadata": {},
   "outputs": [],
   "source": [
    "#Assignment 7"
   ]
  },
  {
   "cell_type": "code",
   "execution_count": null,
   "metadata": {},
   "outputs": [],
   "source": [
    "##Assignment 8"
   ]
  },
  {
   "cell_type": "code",
   "execution_count": null,
   "metadata": {},
   "outputs": [],
   "source": [
    "import sklearn.neighbors as sklN"
   ]
  },
  {
   "cell_type": "code",
   "execution_count": null,
   "metadata": {},
   "outputs": [],
   "source": [
    "#X_train = np.ndarray(x_train[:10],dtype=float32)\n",
    "#%timeit tree = sklN.BallTree(x_train[:N].reshape(N,28*28),metric=opt_d_two)\n",
    "#%timeit treee = sklN.BallTree(x_train[:N].reshape(N,28*28),metric='euclidean')              \n",
    "\n",
    "#tree = sklN.BallTree(x_train[:N].reshape(N,28*28),metric='euclidean')\n",
    "#val, idx = tree.query(x_test[:N].reshape(N,28*28), k=2)\n",
    "#print(k)\n",
    "#print(val)"
   ]
  },
  {
   "cell_type": "code",
   "execution_count": null,
   "metadata": {},
   "outputs": [],
   "source": [
    "#N=10\n",
    "#tree = sklN.BallTree(x_train[:N].reshape(N,28*28),metric=opt_d_two)\n",
    "#val, idx = tree.query(x_test[:N].reshape(N,28*28),k=4)\n",
    "#print(idx)\n",
    "#print(val)"
   ]
  },
  {
   "cell_type": "code",
   "execution_count": null,
   "metadata": {},
   "outputs": [],
   "source": [
    "#tree2 = sklN.BallTree(x_train[:2000].reshape(2000,28*28),metric=opt_d_one)\n",
    "#dist, ind = tree2.query(x_train[:1000].reshape(1000,28*28), k=900)\n",
    "#tree1 = sklN.BallTree(x_train[:2000].reshape(2000,28*28),metric='manhattan')  \n",
    "#distt, indd = tree1.query(x_train[:1000].reshape(1000,28*28), k=900)\n",
    "#print(np.array_equal(ind,indd))\n",
    "#print(np.array_equal(dist,distt))"
   ]
  },
  {
   "cell_type": "code",
   "execution_count": null,
   "metadata": {},
   "outputs": [],
   "source": [
    "def efficency_of_test(N):\n",
    "    tree = sklN.BallTree(x_train[:N].reshape(N,28*28),metric='euclidean')\n",
    "    val, idx = tree.query(x_test[:10000].reshape(10000,28*28),k=1)\n",
    "    #print(idx)\n",
    "    error_counter=0\n",
    "    for i in range(10000):\n",
    "        if y_train[idx[i]]!=y_test[i]: error_counter+=1\n",
    "#print(i, idx[i], y_train[idx[i]])\n",
    "#print(i, y_test[i])\n",
    "    return (N, error_counter/len(x_test))   "
   ]
  },
  {
   "cell_type": "code",
   "execution_count": null,
   "metadata": {
    "scrolled": true
   },
   "outputs": [],
   "source": [
    "NN=[100,200,300,400,500]\n",
    "list_eff=[efficency_of_test(n) for n in NN]\n",
    "#    eff.append(efficency_of_test(n))\n",
    "#    print(eff)"
   ]
  },
  {
   "cell_type": "code",
   "execution_count": null,
   "metadata": {},
   "outputs": [],
   "source": [
    "print(list_eff)\n",
    "x_eff = [l[0] for l in list_eff]\n",
    "y_eff = [l[1] for l in list_eff]\n",
    "print(x_eff)\n",
    "print(y_eff)\n",
    "\n",
    "#import matplotlib.pyplot as plt\n",
    "plot.plot(x_eff,y_eff)\n",
    "plot.plot(x_eff,y_eff, 'or')\n",
    "plot.show()"
   ]
  },
  {
   "cell_type": "code",
   "execution_count": null,
   "metadata": {},
   "outputs": [],
   "source": [
    "NNN=[3200, 6400, 12800, 25600, 51200]\n",
    "list_eff2=[efficency_of_test(n) for n in NNN]"
   ]
  },
  {
   "cell_type": "code",
   "execution_count": null,
   "metadata": {},
   "outputs": [],
   "source": [
    "print(list_eff2)\n",
    "x_eff2 = [l[0] for l in list_eff2]\n",
    "y_eff2 = [l[1] for l in list_eff2]\n",
    "print(x_eff2)\n",
    "print(y_eff2)\n",
    "\n",
    "#import matplotlib.pyplot as plt\n",
    "plot.xscale('log')\n",
    "plot.plot(x_eff2,y_eff2)\n",
    "plot.plot(x_eff2,y_eff2, 'or')\n",
    "plot.show()"
   ]
  }
 ],
 "metadata": {
  "kernelspec": {
   "display_name": "Python 3",
   "language": "python",
   "name": "python3"
  },
  "language_info": {
   "codemirror_mode": {
    "name": "ipython",
    "version": 3
   },
   "file_extension": ".py",
   "mimetype": "text/x-python",
   "name": "python",
   "nbconvert_exporter": "python",
   "pygments_lexer": "ipython3",
   "version": "3.5.2"
  }
 },
 "nbformat": 4,
 "nbformat_minor": 2
}
